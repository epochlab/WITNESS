{
 "cells": [
  {
   "cell_type": "code",
   "execution_count": null,
   "metadata": {},
   "outputs": [],
   "source": [
    "import sys, warnings\n",
    "sys.path.append('..')\n",
    "warnings.filterwarnings('ignore')\n",
    "\n",
    "import numpy as np\n",
    "import cv2\n",
    "import scipy.signal as signal\n",
    "import matplotlib.pyplot as plt\n",
    "from tqdm import trange"
   ]
  },
  {
   "cell_type": "code",
   "execution_count": null,
   "metadata": {},
   "outputs": [],
   "source": [
    "def rgb2yiq(x):\n",
    "    rgb = (x[..., ::-1]).astype(np.float32)\n",
    "    y = rgb @ np.array([[0.30], [0.59], [0.11]])\n",
    "    rby = rgb[:, :, (0,2)] - y\n",
    "    i = np.sum(rby * np.array([[[0.74, -0.27]]]), axis=-1)\n",
    "    q = np.sum(rby * np.array([[[0.48, 0.41]]]), axis=-1)\n",
    "    return np.dstack((y.squeeze(), i, q))"
   ]
  },
  {
   "cell_type": "code",
   "execution_count": null,
   "metadata": {},
   "outputs": [],
   "source": [
    "def yiq2rgb(yiq):\n",
    "    r = yiq @ np.array([1.0, 0.9468822170900693, 0.6235565819861433])\n",
    "    g = yiq @ np.array([1.0, -0.27478764629897834, -0.6356910791873801])\n",
    "    b = yiq @ np.array([1.0, -1.1085450346420322, 1.7090069284064666])\n",
    "    rgb = np.clip(np.dstack((r, g, b)), 0, 1)\n",
    "    return rgb\n",
    "\n",
    "inv_colorspace = lambda x: cv2.normalize(yiq2rgb(x), None, 0, 255.0, cv2.NORM_MINMAX, cv2.CV_8UC3)"
   ]
  },
  {
   "cell_type": "code",
   "execution_count": null,
   "metadata": {},
   "outputs": [],
   "source": [
    "DATA = 'data/face.mp4'"
   ]
  },
  {
   "cell_type": "code",
   "execution_count": null,
   "metadata": {},
   "outputs": [],
   "source": [
    "ALPHA = 50.0 # Magnification factor\n",
    "LEVEL = 4 # Gaussian Pyramid\n",
    "\n",
    "# Temporal filter parameters\n",
    "f_lo = 50/60 # 0.83\n",
    "f_hi = 60/60 # 1.0"
   ]
  },
  {
   "cell_type": "code",
   "execution_count": null,
   "metadata": {},
   "outputs": [],
   "source": [
    "cap = cv2.VideoCapture(DATA)\n",
    "\n",
    "w, h = int(cap.get(3)), int(cap.get(4))\n",
    "fps = cap.get(cv2.CAP_PROP_FPS)\n",
    "\n",
    "print(f\"Width: {w} | Height: {h}\")\n",
    "print(f\"Detected Video Sampling Rate (FPS): {fps}\")\n",
    "\n",
    "frames = []\n",
    "while(cap.isOpened()):\n",
    "    ret, frame = cap.read()\n",
    "    if ret == True:\n",
    "        frames.append(rgb2yiq(frame / 255.0))\n",
    "    else:\n",
    "        break"
   ]
  },
  {
   "cell_type": "code",
   "execution_count": null,
   "metadata": {},
   "outputs": [],
   "source": [
    "NUM_FRAMES = len(frames)"
   ]
  },
  {
   "cell_type": "code",
   "execution_count": null,
   "metadata": {},
   "outputs": [],
   "source": [
    "bandpass = signal.firwin(numtaps=len(frames), cutoff=(f_lo, f_hi), fs=fps, pass_zero=False)\n",
    "transfer_function = np.fft.fft(np.fft.ifftshift(bandpass))"
   ]
  },
  {
   "cell_type": "code",
   "execution_count": null,
   "metadata": {},
   "outputs": [],
   "source": [
    "norm_freqs, response = signal.freqz(bandpass)\n",
    "freqs = norm_freqs / np.pi * fps / 2"
   ]
  },
  {
   "cell_type": "code",
   "execution_count": null,
   "metadata": {},
   "outputs": [],
   "source": [
    "_, ax = plt.subplots(1, 4, figsize=(20, 5))\n",
    "ax[0].plot(np.abs(transfer_function))\n",
    "ax[0].set_title(\"Transfer Function\")\n",
    "ax[0].set_xlim([0, len(frames)])\n",
    "ax[0].grid(alpha=0.25)\n",
    "\n",
    "ax[1].plot(bandpass)\n",
    "ax[1].set_title(\"Impulse Response\")\n",
    "ax[1].set_xlim([0, len(frames)])\n",
    "ax[1].grid(alpha=0.25)\n",
    "\n",
    "ax[2].plot(freqs, 20 * np.log10(np.abs(response)))\n",
    "ax[2].plot([f_lo, f_lo], [-100, 0], color='r', lw=0.5)\n",
    "ax[2].plot([f_hi, f_hi], [-100, 0], color='r', lw=0.5)\n",
    "ax[2].set_title(\"Frequency Response\")\n",
    "ax[2].set_ylabel(\"Amplitude\")\n",
    "ax[2].set_xlim([0, 15]), ax[0].grid(alpha=0.25)\n",
    "ax[2].grid(alpha=0.25)\n",
    "\n",
    "ax[3].plot(freqs, np.angle(response))\n",
    "ax[3].set_title(\"Phase Response\")\n",
    "ax[3].set_xlabel(\"Freqeuncy (Hz)\")\n",
    "ax[3].set_ylabel(\"Angle (radians)\")\n",
    "ax[3].set_xlim([0, 15]), ax[1].grid(alpha=0.25)\n",
    "ax[3].grid(alpha=0.25)\n",
    "\n",
    "plt.tight_layout()"
   ]
  },
  {
   "cell_type": "code",
   "execution_count": null,
   "metadata": {},
   "outputs": [],
   "source": [
    "def gaussian_pyramid(image, level):\n",
    "    r, c, ch = image.shape\n",
    "    scale = 2**level\n",
    "    pyramid = np.zeros((ch, r//scale, c//scale))\n",
    "\n",
    "    for i in range(0, level):\n",
    "        image = cv2.pyrDown(image, dstsize=(c//2, r//2))\n",
    "        r, c, _ = image.shape\n",
    "\n",
    "        if i==(level-1):\n",
    "            for c in range(ch):\n",
    "                pyramid[c,:,:] = image[:,:,c]\n",
    "\n",
    "    return pyramid"
   ]
  },
  {
   "cell_type": "code",
   "execution_count": null,
   "metadata": {},
   "outputs": [],
   "source": [
    "r, c, ch = frames[0].shape\n",
    "scale = 2**LEVEL\n",
    "pyramid_stack = np.zeros((len(frames), ch, r//scale, c//scale))"
   ]
  },
  {
   "cell_type": "code",
   "execution_count": null,
   "metadata": {},
   "outputs": [],
   "source": [
    "for i, frame in enumerate(frames):\n",
    "    pyramid = gaussian_pyramid(frame, LEVEL)\n",
    "    pyramid_stack[i,:,:,:] = pyramid"
   ]
  },
  {
   "cell_type": "code",
   "execution_count": null,
   "metadata": {},
   "outputs": [],
   "source": [
    "plt.figure(figsize=(15, 5))\n",
    "plt.imshow(pyramid_stack[0,:,:,:].transpose(1,0,2).reshape((pyramid.shape[1],-1)), cmap='gray')\n",
    "plt.axis(False), plt.tight_layout()"
   ]
  },
  {
   "cell_type": "code",
   "execution_count": null,
   "metadata": {},
   "outputs": [],
   "source": [
    "pyr_stack_fft = np.fft.fft(pyramid_stack, axis=0).astype(np.complex64)\n",
    "_filtered_pyramid = pyr_stack_fft * transfer_function[:, None, None, None].astype(np.complex64)\n",
    "filtered_pyramid = np.fft.ifft(_filtered_pyramid, axis=0).real"
   ]
  },
  {
   "cell_type": "code",
   "execution_count": null,
   "metadata": {},
   "outputs": [],
   "source": [
    "_, ax = plt.subplots(1, 2, figsize=(20, 5), sharey=True)\n",
    "\n",
    "ax[0].plot(np.abs(pyr_stack_fft[2:-2, 0, 20, 12]))\n",
    "ax[0].set_title(\"Unfiltered Signal at (20, 12)\")\n",
    "ax[0].set_xlim([0, len(frames)])\n",
    "ax[0].grid(alpha=0.25)\n",
    "\n",
    "ax[1].plot(np.abs(_filtered_pyramid[2:-2, 0, 20, 12]))\n",
    "ax[1].set_title(\"Filtered Signal at (20, 12)\")\n",
    "ax[1].set_xlim([0, len(frames)])\n",
    "ax[1].grid(alpha=0.25)\n",
    "\n",
    "plt.tight_layout()"
   ]
  },
  {
   "cell_type": "code",
   "execution_count": null,
   "metadata": {},
   "outputs": [],
   "source": [
    "_, ax = plt.subplots(1, 2,figsize=(8, 5))\n",
    "ax[0].imshow(pyramid_stack[50,0,:,:], cmap='gray')\n",
    "ax[0].set_title(\"Unfiltered Luma Channel\")\n",
    "ax[0].axis(False)\n",
    "\n",
    "ax[1].imshow(filtered_pyramid[50,0,:,:], cmap='gray')\n",
    "ax[1].set_title(\"Filtered Luma Channel\")\n",
    "ax[1].axis(False)\n",
    "\n",
    "plt.tight_layout()"
   ]
  },
  {
   "cell_type": "code",
   "execution_count": null,
   "metadata": {},
   "outputs": [],
   "source": [
    "plt.figure(figsize=(10, 5))\n",
    "plt.plot(pyramid_stack[:, 0, 12, 20] - pyramid_stack[:, 0, 12, 20].mean())\n",
    "plt.plot(filtered_pyramid[:, 0, 12, 20])\n",
    "plt.xlim([0, len(frames)])\n",
    "plt.grid(alpha=0.25), plt.tight_layout()"
   ]
  },
  {
   "cell_type": "code",
   "execution_count": null,
   "metadata": {},
   "outputs": [],
   "source": [
    "magnified_pyramid = filtered_pyramid * ALPHA"
   ]
  },
  {
   "cell_type": "code",
   "execution_count": null,
   "metadata": {},
   "outputs": [],
   "source": [
    "magnified = []\n",
    "magnified_only = []\n",
    "\n",
    "for i in (t := trange(len(frames))):\n",
    "    y_chan = frames[i][:, :, 0]\n",
    "    i_chan = frames[i][:, :, 1] \n",
    "    q_chan = frames[i][:, :, 2] \n",
    "    \n",
    "    fy_chan = cv2.resize(magnified_pyramid[i, 0, :, :], (c, r))\n",
    "    fi_chan = cv2.resize(magnified_pyramid[i, 1, :, :], (c, r))\n",
    "    fq_chan = cv2.resize(magnified_pyramid[i, 2, :, :], (c, r))\n",
    "\n",
    "    mag = np.dstack((y_chan + fy_chan, i_chan + fi_chan, q_chan + fq_chan,))\n",
    "    mag = inv_colorspace(mag)\n",
    "\n",
    "    magnified.append(mag)\n",
    "    magnified_only.append(np.dstack((fy_chan, fi_chan, fq_chan)))"
   ]
  },
  {
   "cell_type": "code",
   "execution_count": null,
   "metadata": {},
   "outputs": [],
   "source": [
    "x_r, x_g, x_b = [], [], []\n",
    "\n",
    "red, green, blue = [], [], []\n",
    "for i in (t := trange(len(frames))):\n",
    "    frame = inv_colorspace(frames[i])\n",
    "    x_r.append(frame[0, :, :].sum())\n",
    "    x_b.append(frame[1, :, :].sum())\n",
    "    x_g.append(frame[2, :, :].sum())\n",
    "\n",
    "    red.append(magnified[i][0, :, :].sum())\n",
    "    blue.append(magnified[i][1, :, :].sum())\n",
    "    green.append(magnified[i][2, :, :].sum())"
   ]
  },
  {
   "cell_type": "code",
   "execution_count": null,
   "metadata": {},
   "outputs": [],
   "source": [
    "times = np.arange(0, len(frames))/fps\n",
    "_, ax = plt.subplots(1, 2, figsize=(15, 5), sharey=True)\n",
    "\n",
    "ax[0].plot(times, x_r, color='red')\n",
    "ax[0].plot(times, x_b, color='blue')\n",
    "ax[0].plot(times, x_g, color='green')\n",
    "ax[0].set_title(\"Original\", size=18)\n",
    "ax[0].set_xlabel(\"Time\", size=16)\n",
    "ax[0].set_ylabel(\"Intensity\", size=16)\n",
    "ax[0].set_xlim([0, len(frames)/fps])\n",
    "ax[0].grid(alpha=0.25)\n",
    "\n",
    "ax[1].plot(times, red, color='red')\n",
    "ax[1].plot(times, blue, color='blue')\n",
    "ax[1].plot(times, green, color='green')\n",
    "ax[1].set_title(\"Filtered\", size=18)\n",
    "ax[1].set_xlabel(\"Time\", size=16)\n",
    "ax[1].set_xlim([0, len(frames)/fps])\n",
    "ax[1].grid(alpha=0.25)\n",
    "\n",
    "plt.tight_layout()"
   ]
  },
  {
   "cell_type": "code",
   "execution_count": null,
   "metadata": {},
   "outputs": [],
   "source": [
    "freqs = np.fft.rfftfreq(len(frames)) * fps\n",
    "rates = np.abs(np.fft.rfft(red))/len(frames)"
   ]
  },
  {
   "cell_type": "code",
   "execution_count": null,
   "metadata": {},
   "outputs": [],
   "source": [
    "plt.plot(freqs[1:], rates[1:])\n",
    "plt.title(\"DFT of Red channel Intensities\")\n",
    "plt.xlabel(\"Freuqency\")\n",
    "plt.ylabel(\"Amplitude\")\n",
    "plt.xlim([0, len(freqs[1:])/10])\n",
    "plt.grid(alpha=0.25), plt.tight_layout()"
   ]
  },
  {
   "cell_type": "code",
   "execution_count": null,
   "metadata": {},
   "outputs": [],
   "source": [
    "peak_idx, _ = signal.find_peaks(rates, height=1000)"
   ]
  },
  {
   "cell_type": "code",
   "execution_count": null,
   "metadata": {},
   "outputs": [],
   "source": [
    "bpm = freqs[peak_idx].squeeze(0) * 60\n",
    "print(f\"BPM: {bpm}\")"
   ]
  },
  {
   "cell_type": "code",
   "execution_count": null,
   "metadata": {},
   "outputs": [],
   "source": [
    "stacked_frames = []\n",
    "middle = np.zeros((r, 3, 3)).astype(np.uint8)\n",
    "\n",
    "for vid_idx in range(len(frames)):\n",
    "    og_frame = cv2.normalize(yiq2rgb(frames[vid_idx]), None, 0, 255, cv2.NORM_MINMAX, cv2.CV_8UC3)\n",
    "    frame = np.hstack((cv2.cvtColor(og_frame, cv2.COLOR_RGB2BGR), middle, cv2.cvtColor(magnified[vid_idx], cv2.COLOR_RGB2BGR)))\n",
    "    stacked_frames.append(frame)"
   ]
  },
  {
   "cell_type": "code",
   "execution_count": null,
   "metadata": {},
   "outputs": [],
   "source": [
    "plt.imshow(cv2.cvtColor(stacked_frames[10], cv2.COLOR_BGR2RGB))\n",
    "plt.axis(False), plt.tight_layout()"
   ]
  },
  {
   "cell_type": "code",
   "execution_count": null,
   "metadata": {},
   "outputs": [],
   "source": [
    "_h, _w, _ = stacked_frames[-1].shape\n",
    "out = cv2.VideoWriter(f\"bpm_alpha{int(ALPHA)}.mp4\", cv2.VideoWriter_fourcc(*'MP4V'), int(fps), (_w, _h))\n",
    " \n",
    "for frame in stacked_frames:\n",
    "    out.write(frame)\n",
    "out.release()"
   ]
  },
  {
   "cell_type": "code",
   "execution_count": null,
   "metadata": {},
   "outputs": [],
   "source": [
    "_h, _w, _ = magnified_only[-1].shape\n",
    "out = cv2.VideoWriter(f\"bpm_signal.mp4\", cv2.VideoWriter_fourcc(*'MP4V'), int(fps), (_w, _h))\n",
    "\n",
    "sums = []\n",
    "for frame in magnified_only:\n",
    "    sums.append(frame.sum(axis=1).sum(axis=0))\n",
    "    \n",
    "    frame = cv2.cvtColor(\n",
    "        cv2.normalize(frame*20, None, 0, 255, cv2.NORM_MINMAX, cv2.CV_8UC1),\n",
    "        cv2.COLOR_RGB2BGR)\n",
    "    out.write(frame)\n",
    "out.release()"
   ]
  },
  {
   "cell_type": "code",
   "execution_count": null,
   "metadata": {},
   "outputs": [],
   "source": [
    "stacked = np.array([cv2.cvtColor(frame, cv2.COLOR_BGR2RGB) for frame in stacked_frames])"
   ]
  },
  {
   "cell_type": "code",
   "execution_count": null,
   "metadata": {},
   "outputs": [],
   "source": [
    "idx = 220 \n",
    "\n",
    "_, ax = plt.subplots(1, 2, figsize=(10,10))\n",
    "ax[0].imshow(stacked[:, :, idx, :].transpose(1, 0, 2))\n",
    "ax[0].set_title(\"Original Image\")\n",
    "\n",
    "ax[1].imshow(stacked[:, :, (idx + w + 3), :].transpose(1, 0, 2))\n",
    "ax[1].set_title(\"Color Magnified\")\n",
    "\n",
    "plt.tight_layout()"
   ]
  }
 ],
 "metadata": {
  "kernelspec": {
   "display_name": "dev",
   "language": "python",
   "name": "python3"
  },
  "language_info": {
   "codemirror_mode": {
    "name": "ipython",
    "version": 3
   },
   "file_extension": ".py",
   "mimetype": "text/x-python",
   "name": "python",
   "nbconvert_exporter": "python",
   "pygments_lexer": "ipython3",
   "version": "3.10.13"
  }
 },
 "nbformat": 4,
 "nbformat_minor": 2
}
