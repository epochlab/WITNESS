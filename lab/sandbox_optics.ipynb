{
 "cells": [
  {
   "cell_type": "code",
   "execution_count": null,
   "metadata": {},
   "outputs": [],
   "source": [
    "import sys\n",
    "sys.path.append('..')\n",
    "\n",
    "from pathlib import Path\n",
    "import numpy as np\n",
    "import matplotlib.pyplot as plt\n",
    "\n",
    "from arch import utils, metadata, hex, hist, transport, ela, filter, frequency, pca"
   ]
  },
  {
   "cell_type": "code",
   "execution_count": null,
   "metadata": {},
   "outputs": [],
   "source": [
    "PATH = Path('data/face.jpg')\n",
    "img = utils.load_image(PATH)"
   ]
  },
  {
   "cell_type": "markdown",
   "metadata": {},
   "source": [
    "---"
   ]
  },
  {
   "cell_type": "code",
   "execution_count": null,
   "metadata": {},
   "outputs": [],
   "source": [
    "md = {}\n",
    "md.update(metadata.file_metadata(PATH))\n",
    "md.update(metadata.exif_data(PATH))\n",
    "\n",
    "[f'{l.upper()}: {md[l]}' for l in md]"
   ]
  },
  {
   "cell_type": "code",
   "execution_count": null,
   "metadata": {},
   "outputs": [],
   "source": [
    "with open(PATH, 'rb') as image_file:\n",
    "    data = image_file.read()\n",
    "hex.hexdump(data, 512)"
   ]
  },
  {
   "cell_type": "markdown",
   "metadata": {},
   "source": [
    "---"
   ]
  },
  {
   "cell_type": "code",
   "execution_count": null,
   "metadata": {},
   "outputs": [],
   "source": [
    "pixel_count, stat = hist.process(img)\n",
    "\n",
    "print(f\"\"\"\n",
    "Image Spec: {img.shape}\n",
    "Min: {img.min()} | Max: {img.max()}\n",
    "Pixel count: {stat[0]}\n",
    "Least Frequent: {stat[1]}\n",
    "Most Frequent: {stat[2]}\n",
    "Mean: {stat[3]}\n",
    "Deviation: {stat[4]}\n",
    "Median: {stat[5]}\n",
    "Nonzero: {stat[6]}\n",
    "Empty Bins: {stat[7]}\n",
    "Unique Colours: {stat[8]}\n",
    "\"\"\")"
   ]
  },
  {
   "cell_type": "code",
   "execution_count": null,
   "metadata": {},
   "outputs": [],
   "source": [
    "mag, phase, fft = frequency.calc_fft(img)"
   ]
  },
  {
   "cell_type": "code",
   "execution_count": null,
   "metadata": {},
   "outputs": [],
   "source": [
    "# Define radial distance\n",
    "nx, ny = mag.shape\n",
    "x = np.arange(-mag.shape[0]//2, mag.shape[0]//2)\n",
    "y = np.arange(-mag.shape[1]//2, mag.shape[1]//2)\n",
    "X, Y = np.meshgrid(x, y)\n",
    "dist = np.sqrt(X**2 + Y**2)\n",
    "\n",
    "# Compute spatial frequency\n",
    "hist, bins = np.histogram(dist.flatten(), bins=np.arange(dist.max()), weights=mag.flatten())\n",
    "\n",
    "count = hist[1:].argmax()\n",
    "print('Freqency at which power is greatest:', count)"
   ]
  },
  {
   "cell_type": "code",
   "execution_count": null,
   "metadata": {},
   "outputs": [],
   "source": [
    "plt.figure(figsize=(25,5))\n",
    "width = 0.25\n",
    "alpha = 0.5\n",
    "\n",
    "# Luminance Distribution\n",
    "plt.subplot(1,5,1)\n",
    "plt.plot(pixel_count[0], pixel_count[1], lw=0.5)\n",
    "plt.bar(pixel_count[0], pixel_count[1], color='k', width=width)\n",
    "\n",
    "plt.vlines(pixel_count[1].argmax(), 0, pixel_count[1].max(), linewidth=width * 5, color='r', label='Max Luminance')\n",
    "\n",
    "plt.title('Luminance Distribution')\n",
    "plt.xlabel('Pixel Value'), plt.ylabel('Count')\n",
    "plt.xlim([-1, 255]), plt.legend()\n",
    "plt.grid(alpha=0.25), plt.tight_layout()\n",
    "\n",
    "# Channel Distribution\n",
    "plt.subplot(1,5,2)\n",
    "plt.bar(pixel_count[0], pixel_count[2], color='r', width=width, label='Red Channel')\n",
    "plt.bar(pixel_count[0], pixel_count[3], color='g', width=width, label='Green Channel')\n",
    "plt.bar(pixel_count[0], pixel_count[4], color='b', width=width, label='Blue Channel')\n",
    "\n",
    "plt.plot(pixel_count[0], pixel_count[2], 'r', lw=0.5)\n",
    "plt.plot(pixel_count[0], pixel_count[3], 'g', lw=0.5)\n",
    "plt.plot(pixel_count[0], pixel_count[4], 'b', lw=0.5)\n",
    "\n",
    "plt.title('Channel Distribution')\n",
    "plt.xlabel('Pixel Value'), plt.ylabel('Count')\n",
    "plt.xlim([-1, 255]), plt.legend()\n",
    "plt.grid(alpha=0.25), plt.tight_layout()\n",
    "\n",
    "plt.subplot(1,5,3)\n",
    "plt.imshow(np.log(mag), 'binary')\n",
    "plt.title('Power Spectra')\n",
    "\n",
    "plt.subplot(1,5,4)\n",
    "plt.imshow(phase, 'binary')\n",
    "plt.title('Phase')\n",
    "\n",
    "plt.subplot(1,5,5)\n",
    "plt.plot(bins[:-1], hist, lw=1)\n",
    "plt.vlines(count+1, 0, hist[1:].max(), linewidth=1, color='r')\n",
    "plt.title('Spatial Frequency')\n",
    "plt.xlabel('Distance from Origin'), plt.ylabel('Power')\n",
    "plt.xlim([1,int(dist.max())]), plt.ylim([0,int(hist[1:].max())])\n",
    "plt.grid(alpha=0.25)\n",
    "plt.tight_layout()"
   ]
  },
  {
   "cell_type": "markdown",
   "metadata": {},
   "source": [
    "---"
   ]
  },
  {
   "cell_type": "code",
   "execution_count": null,
   "metadata": {},
   "outputs": [],
   "source": [
    "ela = ela.error_level_analysis(PATH, quality=90)"
   ]
  },
  {
   "cell_type": "markdown",
   "metadata": {},
   "source": [
    "---"
   ]
  },
  {
   "cell_type": "code",
   "execution_count": null,
   "metadata": {},
   "outputs": [],
   "source": [
    "hsv = filter.rgb2hsv(img)\n",
    "lum = filter.luminance_gradient(img, intensity=0.35)\n",
    "echo = filter.echo_edge(img, radius=2, contrast=0.85)\n",
    "noise = filter.noise_seperation(img, mode='median', radius=2, sigma=3)"
   ]
  },
  {
   "cell_type": "code",
   "execution_count": null,
   "metadata": {},
   "outputs": [],
   "source": [
    "mask = frequency.mask_fft(fft, radius=2, blur=25)\n",
    "low = frequency.decode_low(fft, mask)\n",
    "high = frequency.decode_high(fft, mask)"
   ]
  },
  {
   "cell_type": "code",
   "execution_count": null,
   "metadata": {},
   "outputs": [],
   "source": [
    "n_comp = pca.extract_components(img)\n",
    "utils.contact_layer(n_comp, 3, 3).resize((1000,1000))"
   ]
  },
  {
   "cell_type": "markdown",
   "metadata": {},
   "source": [
    "---\n",
    "\n",
    "### WRITE"
   ]
  },
  {
   "cell_type": "code",
   "execution_count": null,
   "metadata": {},
   "outputs": [],
   "source": [
    "aov = {'error_level': ela,\n",
    "       'hsv': hsv,\n",
    "       'luminance_gradient': lum,\n",
    "       'echo_edge': echo,\n",
    "       'noise_seperation': noise,\n",
    "       'low_freq': low,\n",
    "       'high_freq': high,\n",
    "       }\n",
    "\n",
    "header = transport.write(img, aov, 'test.exr')\n",
    "header"
   ]
  },
  {
   "cell_type": "markdown",
   "metadata": {},
   "source": [
    "---\n",
    "\n",
    "### READ"
   ]
  },
  {
   "cell_type": "code",
   "execution_count": null,
   "metadata": {},
   "outputs": [],
   "source": [
    "layers = transport.read('test.exr')"
   ]
  },
  {
   "cell_type": "code",
   "execution_count": null,
   "metadata": {},
   "outputs": [],
   "source": [
    "label = [l[0] for l in layers]\n",
    "data = [l[1] for l in layers]\n",
    "utils.contact_layer(data, 2, 4, label)"
   ]
  }
 ],
 "metadata": {
  "kernelspec": {
   "display_name": "dev",
   "language": "python",
   "name": "python3"
  },
  "language_info": {
   "codemirror_mode": {
    "name": "ipython",
    "version": 3
   },
   "file_extension": ".py",
   "mimetype": "text/x-python",
   "name": "python",
   "nbconvert_exporter": "python",
   "pygments_lexer": "ipython3",
   "version": "3.10.13"
  }
 },
 "nbformat": 4,
 "nbformat_minor": 2
}
