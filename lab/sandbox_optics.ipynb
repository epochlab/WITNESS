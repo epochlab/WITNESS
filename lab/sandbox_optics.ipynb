{
 "cells": [
  {
   "cell_type": "markdown",
   "metadata": {},
   "source": [
    "# CLASSICAL OPTICS\n",
    "\n",
    "- Source Analysis\n",
    "- Metadata Extraction\n",
    "- Hex Dump\n",
    "- Histogram\n",
    "- FFT (Power Spectra & Phase)\n",
    "- Spatial Frequency\n",
    "- Error Level Analysis\n",
    "- ELA Loss Curve\n",
    "- Compression Ghost\n",
    "- RGB2HSV\n",
    "- Lumiance Gradient\n",
    "- Echo Edge Detection\n",
    "- Noise / Grain Seperation\n",
    "- Frequency Split\n",
    "- PCA\n",
    "- EXR Transport"
   ]
  },
  {
   "cell_type": "code",
   "execution_count": null,
   "metadata": {},
   "outputs": [],
   "source": [
    "import sys, warnings\n",
    "sys.path.append('..')\n",
    "warnings.filterwarnings('ignore')\n",
    "\n",
    "from pathlib import Path\n",
    "import numpy as np\n",
    "import matplotlib.pyplot as plt\n",
    "\n",
    "from arch import utils, metadata, hex, hist, transport, ela, filter, frequency, pca"
   ]
  },
  {
   "cell_type": "code",
   "execution_count": null,
   "metadata": {},
   "outputs": [],
   "source": [
    "PATH = Path('data/face.jpg')\n",
    "init_image = utils.load_image(PATH)"
   ]
  },
  {
   "cell_type": "markdown",
   "metadata": {},
   "source": [
    "---"
   ]
  },
  {
   "cell_type": "code",
   "execution_count": null,
   "metadata": {},
   "outputs": [],
   "source": [
    "md = {}\n",
    "md.update(metadata.file_metadata(PATH))\n",
    "md.update(metadata.exif_data(PATH))\n",
    "\n",
    "[f'{l.upper()}: {md[l]}' for l in md]"
   ]
  },
  {
   "cell_type": "code",
   "execution_count": null,
   "metadata": {},
   "outputs": [],
   "source": [
    "with open(PATH, 'rb') as image_file:\n",
    "    data = image_file.read()\n",
    "hex.hexdump(data, 512)"
   ]
  },
  {
   "cell_type": "markdown",
   "metadata": {},
   "source": [
    "---"
   ]
  },
  {
   "cell_type": "code",
   "execution_count": null,
   "metadata": {},
   "outputs": [],
   "source": [
    "pixel_count, stat = hist.process(init_image)\n",
    "\n",
    "print(f\"\"\"\n",
    "Image Spec: {np.array(init_image).shape}\n",
    "Pixel count: {stat[0]}\n",
    "Min: {stat[1]} | Max: {stat[2]}\n",
    "Least Frequent: {stat[3]}\n",
    "Most Frequent: {stat[4]}\n",
    "Mean: {stat[5]}\n",
    "Deviation: {stat[6]}\n",
    "Median: {stat[7]}\n",
    "Nonzero: {stat[8]}\n",
    "Empty Bins: {stat[9]}\n",
    "Unique Colours: {stat[10]}\n",
    "\"\"\")"
   ]
  },
  {
   "cell_type": "code",
   "execution_count": null,
   "metadata": {},
   "outputs": [],
   "source": [
    "n_img = utils.image2array(init_image)\n",
    "mag, phase, fft = frequency.calc_fft(n_img)"
   ]
  },
  {
   "cell_type": "code",
   "execution_count": null,
   "metadata": {},
   "outputs": [],
   "source": [
    "nx, ny = mag.shape\n",
    "x = np.arange(-mag.shape[0]//2, mag.shape[0]//2)\n",
    "y = np.arange(-mag.shape[1]//2, mag.shape[1]//2)\n",
    "X, Y = np.meshgrid(x, y)\n",
    "dist = np.sqrt(X**2 + Y**2)\n",
    "\n",
    "hist, bins = np.histogram(dist.flatten(), bins=np.arange(dist.max()), weights=mag.flatten())\n",
    "\n",
    "count = hist[1:].argmax()\n",
    "print('Freqency at which power is greatest:', count)"
   ]
  },
  {
   "cell_type": "code",
   "execution_count": null,
   "metadata": {},
   "outputs": [],
   "source": [
    "width = 0.25\n",
    "alpha = 0.5\n",
    "\n",
    "_, ax = plt.subplots(1, 5, figsize=(25, 5))\n",
    "ax[0].plot(pixel_count[0], pixel_count[1], lw=0.5)\n",
    "ax[0].bar(pixel_count[0], pixel_count[1], color='k', width=width)\n",
    "ax[0].vlines(pixel_count[1].argmax(), 0, pixel_count[1].max(), linewidth=width * 5, color='r', label='Max Luminance')\n",
    "\n",
    "ax[0].set_title('Luminance Distribution')\n",
    "ax[0].set_xlabel('Pixel Value'), ax[0].set_ylabel('Count')\n",
    "ax[0].set_xlim([-1, 255]), ax[0].legend()\n",
    "ax[0].grid(alpha=0.25)\n",
    "\n",
    "ax[1].bar(pixel_count[0], pixel_count[2], color='r', width=width, label='Red Channel')\n",
    "ax[1].bar(pixel_count[0], pixel_count[3], color='g', width=width, label='Green Channel')\n",
    "ax[1].bar(pixel_count[0], pixel_count[4], color='b', width=width, label='Blue Channel')\n",
    "ax[1].plot(pixel_count[0], pixel_count[2], 'r', lw=0.5)\n",
    "ax[1].plot(pixel_count[0], pixel_count[3], 'g', lw=0.5)\n",
    "ax[1].plot(pixel_count[0], pixel_count[4], 'b', lw=0.5)\n",
    "ax[1].set_title('Channel Distribution')\n",
    "ax[1].set_xlabel('Pixel Value'), ax[1].set_ylabel('Count')\n",
    "ax[1].set_xlim([-1, 255]), ax[1].legend()\n",
    "ax[1].grid(alpha=0.25)\n",
    "\n",
    "ax[2].imshow(np.log(mag), 'binary')\n",
    "ax[2].set_title('Power Spectra')\n",
    "\n",
    "ax[3].imshow(phase, 'binary')\n",
    "ax[3].set_title('Phase')\n",
    "\n",
    "ax[4].plot(bins[:-1], hist, lw=1)\n",
    "ax[4].vlines(count+1, 0, hist[1:].max(), linewidth=1, color='r')\n",
    "ax[4].set_title('Spatial Frequency')\n",
    "ax[4].set_xlabel('Distance from Origin'), ax[4].set_ylabel('Power')\n",
    "ax[4].set_xlim([1,int(dist.max())]), ax[4].set_ylim([0,int(hist[1:].max())])\n",
    "ax[4].grid(alpha=0.25)\n",
    "\n",
    "plt.tight_layout()"
   ]
  },
  {
   "cell_type": "markdown",
   "metadata": {},
   "source": [
    "---"
   ]
  },
  {
   "cell_type": "code",
   "execution_count": null,
   "metadata": {},
   "outputs": [],
   "source": [
    "loss, qm = ela.loss_curve(init_image)\n",
    "ghost = ela.compute(init_image, qm)"
   ]
  },
  {
   "cell_type": "code",
   "execution_count": null,
   "metadata": {},
   "outputs": [],
   "source": [
    "plt.figure(figsize=(15,5))\n",
    "ela.plot_curve(loss, qm)\n",
    "# utils.array2image(ghost)"
   ]
  },
  {
   "cell_type": "markdown",
   "metadata": {},
   "source": [
    "---"
   ]
  },
  {
   "cell_type": "code",
   "execution_count": null,
   "metadata": {},
   "outputs": [],
   "source": [
    "hsv = filter.rgb2hsv(n_img)\n",
    "lum = filter.luminance_gradient(n_img, intensity=0.35)\n",
    "echo = filter.echo_edge(n_img, radius=2, contrast=0.85)\n",
    "noise = filter.noise_seperation(n_img, mode='median', radius=2, sigma=3)"
   ]
  },
  {
   "cell_type": "code",
   "execution_count": null,
   "metadata": {},
   "outputs": [],
   "source": [
    "mask = frequency.mask_fft(fft, radius=2, blur=25)\n",
    "low = frequency.decode_low(fft, mask)\n",
    "high = frequency.decode_high(fft, mask)"
   ]
  },
  {
   "cell_type": "code",
   "execution_count": null,
   "metadata": {},
   "outputs": [],
   "source": [
    "n_comp = pca.extract_components(n_img)\n",
    "# utils.contact_layer(n_comp, 3, 3).resize((1000,1000))"
   ]
  },
  {
   "cell_type": "markdown",
   "metadata": {},
   "source": [
    "---\n",
    "\n",
    "### WRITE"
   ]
  },
  {
   "cell_type": "code",
   "execution_count": null,
   "metadata": {},
   "outputs": [],
   "source": [
    "aov = {'error_level': ghost,\n",
    "       'hsv': hsv,\n",
    "       'luminance_gradient': lum,\n",
    "       'echo_edge': echo,\n",
    "       'noise_seperation': noise,\n",
    "       'low_freq': low,\n",
    "       'high_freq': high,\n",
    "       }\n",
    "\n",
    "header = transport.write(n_img, aov, 'test.exr')\n",
    "header"
   ]
  },
  {
   "cell_type": "markdown",
   "metadata": {},
   "source": [
    "---\n",
    "\n",
    "### READ"
   ]
  },
  {
   "cell_type": "code",
   "execution_count": null,
   "metadata": {},
   "outputs": [],
   "source": [
    "layers = transport.read('test.exr')"
   ]
  },
  {
   "cell_type": "code",
   "execution_count": null,
   "metadata": {},
   "outputs": [],
   "source": [
    "label = [l[0] for l in layers]\n",
    "data = [l[1] for l in layers]\n",
    "\n",
    "utils.contact_layer(data, 2, 4, label)"
   ]
  }
 ],
 "metadata": {
  "kernelspec": {
   "display_name": "dev",
   "language": "python",
   "name": "python3"
  },
  "language_info": {
   "codemirror_mode": {
    "name": "ipython",
    "version": 3
   },
   "file_extension": ".py",
   "mimetype": "text/x-python",
   "name": "python",
   "nbconvert_exporter": "python",
   "pygments_lexer": "ipython3",
   "version": "3.10.13"
  }
 },
 "nbformat": 4,
 "nbformat_minor": 2
}
