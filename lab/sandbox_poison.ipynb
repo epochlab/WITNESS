{
 "cells": [
  {
   "cell_type": "code",
   "execution_count": null,
   "metadata": {},
   "outputs": [],
   "source": [
    "import sys, warnings\n",
    "sys.path.append('..')\n",
    "warnings.filterwarnings('ignore')\n",
    "\n",
    "from pathlib import Path\n",
    "from dataclasses import dataclass\n",
    "\n",
    "import numpy as np\n",
    "from PIL import Image\n",
    "from tqdm import trange\n",
    "\n",
    "import torch\n",
    "from diffusers import StableDiffusionImg2ImgPipeline\n",
    "\n",
    "from arch import utils, poison"
   ]
  },
  {
   "cell_type": "code",
   "execution_count": null,
   "metadata": {},
   "outputs": [],
   "source": [
    "DEVICE = utils.device_mapper()\n",
    "print(f\"Device: {str(DEVICE).upper()}\")"
   ]
  },
  {
   "cell_type": "code",
   "execution_count": null,
   "metadata": {},
   "outputs": [],
   "source": [
    "pipeline = StableDiffusionImg2ImgPipeline.from_pretrained(\"runwayml/stable-diffusion-v1-5\", variant='fp16', torch_dtype=torch.float16)\n",
    "pipeline = pipeline.to(DEVICE)"
   ]
  },
  {
   "cell_type": "code",
   "execution_count": null,
   "metadata": {},
   "outputs": [],
   "source": [
    "PATH = Path('data/puppy.png')\n",
    "init_image = utils.load_image(PATH)\n",
    "init_image"
   ]
  },
  {
   "cell_type": "markdown",
   "metadata": {},
   "source": [
    "---"
   ]
  },
  {
   "cell_type": "code",
   "execution_count": null,
   "metadata": {},
   "outputs": [],
   "source": [
    "def transform(img: Image.Image) -> torch.Tensor:\n",
    "    # Resize to factor of 32\n",
    "    w, h = map(lambda x: x - x % 32, img.size)\n",
    "    img = img.resize((w, h), resample=Image.LANCZOS)\n",
    "\n",
    "    img = utils.image2array(img, dtype=np.float16)\n",
    "    img = img * 2.0 - 1.0\n",
    "    img = img[None].transpose(0, 3, 1, 2)\n",
    "    return torch.from_numpy(img)"
   ]
  },
  {
   "cell_type": "code",
   "execution_count": null,
   "metadata": {},
   "outputs": [],
   "source": [
    "x = transform(init_image).to(DEVICE)\n",
    "\n",
    "# adv_x = poison.fgsm(x, model=pipeline.vae.encode)\n",
    "# adv_x = poison.bim(x, model=pipeline.vae.encode)\n",
    "adv_x = poison.pgd(x, model=pipeline.vae.encode, eps=0.06, step_size=0.02, iters=1000)"
   ]
  },
  {
   "cell_type": "code",
   "execution_count": null,
   "metadata": {},
   "outputs": [],
   "source": [
    "adv_image = (adv_x / 2 + 0.5).clamp(0, 1)\n",
    "adv_image = adv_image.cpu().detach().numpy().transpose(0, 2, 3, 1)[0]\n",
    "adv_image = utils.array2image(adv_image)\n",
    "adv_image"
   ]
  },
  {
   "cell_type": "markdown",
   "metadata": {},
   "source": [
    "---"
   ]
  },
  {
   "cell_type": "code",
   "execution_count": null,
   "metadata": {},
   "outputs": [],
   "source": [
    "@dataclass\n",
    "class HyperConfig:\n",
    "    prompt = \"a photograph of a dog under heavy rain on muddy ground\"\n",
    "    strength = 0.5\n",
    "    cfg_scale = 7.0\n",
    "    infer_steps = 50\n",
    "\n",
    "config = HyperConfig()"
   ]
  },
  {
   "cell_type": "code",
   "execution_count": null,
   "metadata": {},
   "outputs": [],
   "source": [
    "image_nat = pipeline(prompt=config.prompt, \n",
    "                        image=init_image, \n",
    "                        strength=config.strength, \n",
    "                        guidance_scale=config.cfg_scale, \n",
    "                        num_inference_steps=config.infer_steps).images[0]\n",
    "\n",
    "image_adv = pipeline(prompt=config.prompt, \n",
    "                        image=adv_image, \n",
    "                        strength=config.strength, \n",
    "                        guidance_scale=config.cfg_scale, \n",
    "                        num_inference_steps=config.infer_steps).images[0]"
   ]
  },
  {
   "cell_type": "code",
   "execution_count": null,
   "metadata": {},
   "outputs": [],
   "source": [
    "labels = ['Source Image', 'Adv Image', 'Gen. Image Nat.', 'Gen. Image Adv.']\n",
    "data = [init_image, adv_image, image_nat, image_adv]\n",
    "\n",
    "utils.contact_layer(data, 1, 4, labels)"
   ]
  }
 ],
 "metadata": {
  "kernelspec": {
   "display_name": "dev",
   "language": "python",
   "name": "python3"
  },
  "language_info": {
   "codemirror_mode": {
    "name": "ipython",
    "version": 3
   },
   "file_extension": ".py",
   "mimetype": "text/x-python",
   "name": "python",
   "nbconvert_exporter": "python",
   "pygments_lexer": "ipython3",
   "version": "3.10.13"
  }
 },
 "nbformat": 4,
 "nbformat_minor": 2
}
